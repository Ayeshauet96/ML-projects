{
 "cells": [
  {
   "cell_type": "markdown",
   "metadata": {},
   "source": [
    "# Programming Assignment 1: Linear Regression\n",
    "\n",
    "## Introduction\n",
    "\n",
    "In this exercise, you will implement linear regression and get to see it work on data. After completing this assignment, you will know:\n",
    "- How to implement linear regression from scratch.\n",
    "- How to estimate linear regression parameters using gradient descent.\n",
    "- How to make predictions on new data using learned parameters.\n",
    "\n",
    "Let's start with the necessary imports."
   ]
  },
  {
   "cell_type": "code",
   "execution_count": 3,
   "metadata": {},
   "outputs": [],
   "source": [
    "import os\n",
    "import numpy as np\n",
    "from matplotlib import pyplot\n",
    "%matplotlib inline"
   ]
  },
  {
   "cell_type": "markdown",
   "metadata": {},
   "source": [
    "## 1. Linear Regression with one variable\n",
    "\n",
    "Linear regression assumes a linear relationship between the input variables (X) and the single output variable (Y). More specifically, that output (Y) can be calculated from a linear combination of the input variables (X). When there is a single input variable, the method is referred to as a simple linear regression.\n",
    "\n",
    "Now you will implement simple linear regression to predict profits for a food truck. Suppose you are the CEO of a restaurant franchise and are considering different cities for opening a new outlet. The chain already has trucks in various cities and you have data for profits and populations from the cities. You would like to use this data to help you select which city to expand to next."
   ]
  },
  {
   "cell_type": "markdown",
   "metadata": {},
   "source": [
    "### 1.1 Load the dataset\n",
    "\n",
    "The file `Data/ex1data1.txt` contains the dataset for our linear regression problem. The first column is the population of a city (in 10,000s) and the second column is the profit of a food truck in that city (in $10,000s). A negative value for profit indicates a loss. \n",
    "\n",
    "We provide you with the code needed to load this data. The dataset is loaded from the data file into the variables `X` and `Y`."
   ]
  },
  {
   "cell_type": "code",
   "execution_count": 26,
   "metadata": {},
   "outputs": [],
   "source": [
    "data = np.loadtxt(os.path.join('Data', 'ex1data1.txt'), delimiter=',')\n",
    "X, Y = data[:, 0], data[:, 1]"
   ]
  },
  {
   "cell_type": "markdown",
   "metadata": {},
   "source": [
    "### 1.2 Plot the dataset\n",
    "Before starting on any task, it is often useful to understand the data by visualizing it. For this dataset, you can use a scatter plot to visualize the data, since it has only two properties to plot (profit and population). Execute the next cell to visualize the data."
   ]
  },
  {
   "cell_type": "code",
   "execution_count": 27,
   "metadata": {},
   "outputs": [
    {
     "data": {
      "text/plain": [
       "Text(0.5, 0, 'Population of City in 10,000s')"
      ]
     },
     "execution_count": 27,
     "metadata": {},
     "output_type": "execute_result"
    },
    {
     "data": {
      "image/png": "[encoded data removed]",
      "text/plain": [
       "<Figure size 432x288 with 1 Axes>"
      ]
     },
     "metadata": {
      "needs_background": "light"
     },
     "output_type": "display_data"
    }
   ],
   "source": [
    "pyplot.plot(X, Y, 'ro', ms=10, mec='k')\n",
    "pyplot.ylabel('Profit in $10,000')\n",
    "pyplot.xlabel('Population of City in 10,000s')"
   ]
  },
  {
   "cell_type": "markdown",
   "metadata": {},
   "source": [
    "### 1.3 Learn the parameters\n",
    "In this part, you will fit the linear regression parameters $\\theta$ to the food truck dataset using gradient descent.\n",
    "\n",
    "The objective of linear regression is to minimize the cost function\n",
    "\n",
    "$$ J(\\theta) = \\frac{1}{2m} \\sum_{i=1}^m \\left( h_{\\theta}(x^{(i)}) - y^{(i)}\\right)^2 ------ (i)$$ \n",
    "\n",
    "where the hypothesis $h_\\theta(x)$ is given by the linear model\n",
    "$$ h_\\theta(x) = \\theta_0 + \\theta_1 x ------ (ii)$$\n",
    "\n",
    "The parameters of your model are the $\\theta_j$ values. These are\n",
    "the values you will adjust to minimize cost $J(\\theta)$. One way to do this is to\n",
    "use the batch gradient descent algorithm. In batch gradient descent, each\n",
    "iteration performs the update\n",
    "\n",
    "$$ \\theta_0 = \\theta_0 - \\alpha \\frac{1}{m} \\sum_{i=1}^m \\left( h_\\theta(x^{(i)}) - y^{(i)}\\right) ------ (iii)$$\n",
    "\n",
    "$$ \\theta_1 = \\theta_1 - \\alpha \\frac{1}{m} \\sum_{i=1}^m \\left( h_\\theta(x^{(i)}) - y^{(i)}\\right)x^{(i)} ------ (iv)$$\n",
    "\n",
    "With each step of gradient descent, your parameters $\\theta_j$ come closer to the optimal values that will achieve the lowest cost J($\\theta$).\n",
    "\n",
    "Let's start by implementing the hypothesis $h_\\theta(x)$."
   ]
  },
  {
   "cell_type": "code",
   "execution_count": 28,
   "metadata": {},
   "outputs": [],
   "source": [
    "### GRADED FUNCTION ###\n",
    "def predict(x, theta0, theta1):\n",
    "    '''\n",
    "    Calculates the hypothesis for any input sample `x` given the parameters `theta`.\n",
    "    \n",
    "    Arguments\n",
    "    ---------\n",
    "    x : float\n",
    "        The input sample.\n",
    "    \n",
    "    theta0 : float\n",
    "        The parameter for the regression function.\n",
    "        \n",
    "    theta1 : float\n",
    "        The parameter for the regression function.\n",
    "    \n",
    "    Returns\n",
    "    -------\n",
    "    h_x : float\n",
    "        The hypothesis for input sample.\n",
    "    \n",
    "    Hint(s)\n",
    "    -------\n",
    "    Compute equation (ii).\n",
    "    '''\n",
    "    # You need to return the following variable(s) correctly\n",
    "    h_x = 0.0\n",
    "    \n",
    "    ### START CODE HERE ### (≈ 1 line of code)\n",
    "\n",
    "    h_x = theta0 + theta1*x\n",
    "    ### END CODE HERE ###\n",
    "    \n",
    "    return h_x"
   ]
  },
  {
   "cell_type": "markdown",
   "metadata": {},
   "source": [
    "Execute the next cell to verify your implementation."
   ]
  },
  {
   "cell_type": "code",
   "execution_count": 29,
   "metadata": {},
   "outputs": [
    {
     "name": "stdout",
     "output_type": "stream",
     "text": [
      "With x = 2, theta0 = 1.0, theta1 = 1.0\n",
      "Predicted Hypothesis h(x) = 3.00\n",
      "Expected hypothesis h(x) = 3.00\n",
      "\n"
     ]
    }
   ],
   "source": [
    "h_x = predict(x=2, theta0=1.0, theta1=1.0)\n",
    "print('With x = 2, theta0 = 1.0, theta1 = 1.0\\nPredicted Hypothesis h(x) = %.2f' % h_x)\n",
    "print(\"Expected hypothesis h(x) = 3.00\\n\")"
   ]
  },
  {
   "cell_type": "markdown",
   "metadata": {},
   "source": [
    "As you perform gradient descent to learn minimize the cost function  $J(\\theta)$, it is helpful to monitor the convergence by computing the cost. In this section, you will implement a function to calculate  $J(\\theta)$ so you can check the convergence of your gradient descent implementation."
   ]
  },
  {
   "cell_type": "code",
   "execution_count": 30,
   "metadata": {},
   "outputs": [],
   "source": [
    "### GRADED FUNCTION ###\n",
    "def computeCost(X, Y, theta0, theta1):\n",
    "    '''\n",
    "    Computes cost for linear regression. Computes the cost of using `theta` as the\n",
    "    parameter for linear regression to fit the data points in `X` and `Y`.\n",
    "    \n",
    "    Arguments\n",
    "    ---------\n",
    "    X : array\n",
    "        The input dataset of shape (m, ), where m is the number of training examples.\n",
    "    \n",
    "    Y : array\n",
    "        The values of the function at each data point. This is a vector of\n",
    "        shape (m, ), where m is the number of training examples.\n",
    "    \n",
    "    theta0 : float\n",
    "        The parameter for the regression function.\n",
    "        \n",
    "    theta1 : float\n",
    "        The parameter for the regression function.\n",
    "    \n",
    "    Returns\n",
    "    -------\n",
    "    J : float\n",
    "        The value of the regression cost function.\n",
    "    \n",
    "    Hint(s)\n",
    "    -------\n",
    "    Compute equation (i).\n",
    "    '''\n",
    "    # initialize some useful values\n",
    "    m = Y.size  # number of training examples\n",
    "    \n",
    "    # You need to return the following variable(s) correctly\n",
    "    J = 0\n",
    "        \n",
    "    ### START CODE HERE ### (≈ 3-4 lines of code)\n",
    "\n",
    "    hx = [predict(val, theta0, theta1) for val in X]\n",
    "    J = (1/(2*m)) * sum(np.square(np.array(hx) - np.array(Y)))\n",
    "    ### END CODE HERE ###\n",
    "    \n",
    "    return J"
   ]
  },
  {
   "cell_type": "markdown",
   "metadata": {},
   "source": [
    "Execute the next cell to verify your implementation."
   ]
  },
  {
   "cell_type": "code",
   "execution_count": 31,
   "metadata": {},
   "outputs": [
    {
     "name": "stdout",
     "output_type": "stream",
     "text": [
      "With theta0 = 1.0, theta1 = 1.0\n",
      "Predicted cost J = 10.27\n",
      "Expected cost J = 10.27\n",
      "\n"
     ]
    }
   ],
   "source": [
    "J = computeCost(X, Y, theta0=1.0, theta1=1.0)\n",
    "print('With theta0 = 1.0, theta1 = 1.0\\nPredicted cost J = %.2f' % J)\n",
    "print(\"Expected cost J = 10.27\\n\")"
   ]
  },
  {
   "cell_type": "markdown",
   "metadata": {},
   "source": [
    "Next, you will complete a function which implements gradient descent. The loop structure has been written for you, and you only need to supply the updates to parameters $\\theta_j$  within each iteration (epoch). \n",
    "\n",
    "The starter code for the function `gradientDescent` calls `computeCost` on every iteration and saves the cost to a `python` list. Assuming you have implemented `gradientDescent` and `computeCost` correctly, your value of $J(\\theta)$ should never increase, and should converge to a steady value by the end of the algorithm."
   ]
  },
  {
   "cell_type": "code",
   "execution_count": 32,
   "metadata": {},
   "outputs": [],
   "source": [
    "### GRADED FUNCTION ###\n",
    "def gradientDescent(X, Y, alpha, n_epoch):\n",
    "    \"\"\"\n",
    "    Performs gradient descent to learn `theta`. Updates `theta` by taking `n_epoch`\n",
    "    gradient steps with learning rate `alpha`.\n",
    "    \n",
    "    Arguments\n",
    "    ---------\n",
    "    X : array\n",
    "        The input dataset of shape (m, ), where m is the number of training examples.\n",
    "    \n",
    "    Y : array\n",
    "        The values of the function at each data point. This is a vector of\n",
    "        shape (m, ), where m is the number of training examples.\n",
    "    \n",
    "    alpha : float\n",
    "        The learning rate.\n",
    "    \n",
    "    n_epoch : int\n",
    "        The number of iterations for gradient descent. \n",
    "    \n",
    "    Returns\n",
    "    -------\n",
    "    theta0 : float\n",
    "        The parameter for the regression function.\n",
    "        \n",
    "    theta1 : float\n",
    "        The parameter for the regression function.\n",
    "    \n",
    "    J : list\n",
    "        A python list for the values of the cost function after each iteration.\n",
    "    \n",
    "    Hint(s)\n",
    "    -------\n",
    "    Compute equation (iii) and (iv).\n",
    "\n",
    "    While debugging, it can be useful to print out the values of \n",
    "    the cost function (computeCost) here.\n",
    "    \"\"\"\n",
    "    # initialize some useful values\n",
    "    m = Y.size  # number of training examples\n",
    "    J = list()  # list to store cost\n",
    "    \n",
    "    # You need to return the following variables correctly\n",
    "    theta0 = 0.0\n",
    "    theta1 = 0.0\n",
    "    \n",
    "    for epoch in range(n_epoch):\n",
    "        ### START CODE HERE ### (≈ 5-10 lines of code)\n",
    "        \n",
    "        hx = [predict(val, theta0, theta1) for val in X]\n",
    "        temp0 = theta0 - alpha * ((1/m)*sum(np.array(hx) - np.array(Y)))\n",
    "        temp1 = theta1 - alpha * ((1/m)*sum((np.array(hx) - np.array(Y))*X))\n",
    "        theta0 = temp0\n",
    "        theta1 = temp1\n",
    "        ### END CODE HERE ###\n",
    "\n",
    "        J.append(computeCost(X, Y, theta0, theta1))\n",
    "    return theta0, theta1, J"
   ]
  },
  {
   "cell_type": "markdown",
   "metadata": {},
   "source": [
    "Execute the next cell to verify your implementation."
   ]
  },
  {
   "cell_type": "code",
   "execution_count": 33,
   "metadata": {},
   "outputs": [
    {
     "name": "stdout",
     "output_type": "stream",
     "text": [
      "Predicted theta0 = -3.6303, theta1 = 1.1664, cost = 4.4834\n",
      "Expected theta0 = -3.6303, theta1 = 1.1664, cost = 4.4834\n"
     ]
    }
   ],
   "source": [
    "n_epoch = 1500\n",
    "alpha = 0.01\n",
    "\n",
    "theta0, theta1, J = gradientDescent(X ,Y, alpha, n_epoch)\n",
    "print('Predicted theta0 = %.4f, theta1 = %.4f, cost = %.4f' % (theta0, theta1, J[-1]))\n",
    "print('Expected theta0 = -3.6303, theta1 = 1.1664, cost = 4.4834')"
   ]
  },
  {
   "cell_type": "markdown",
   "metadata": {},
   "source": [
    "### 1.4 Plot the linear fit\n",
    "\n",
    "Use your learned parameters $\\theta_j$ to plot the linear fit."
   ]
  },
  {
   "cell_type": "code",
   "execution_count": 34,
   "metadata": {},
   "outputs": [
    {
     "data": {
      "text/plain": [
       "<matplotlib.legend.Legend at 0x244c3687888>"
      ]
     },
     "execution_count": 34,
     "metadata": {},
     "output_type": "execute_result"
    },
    {
     "data": {
      "image/png": "[encoded data removed]",
      "text/plain": [
       "<Figure size 432x288 with 1 Axes>"
      ]
     },
     "metadata": {
      "needs_background": "light"
     },
     "output_type": "display_data"
    }
   ],
   "source": [
    "h_x = list()\n",
    "for x in X:\n",
    "    h_x.append(predict(x, theta0, theta1))\n",
    "pyplot.plot(X, Y, 'ro', ms=10, mec='k')\n",
    "pyplot.ylabel('Profit in $10,000')\n",
    "pyplot.xlabel('Population of City in 10,000s')\n",
    "pyplot.plot(X, h_x, '-')\n",
    "pyplot.legend(['Training data', 'Linear regression'])"
   ]
  },
  {
   "cell_type": "markdown",
   "metadata": {},
   "source": [
    "### 1.5 Make predictions\n",
    "\n",
    "Use your learned parameters $\\theta_j$ to make food truck profit predictions in areas with population of 40,000 and 65,000."
   ]
  },
  {
   "cell_type": "code",
   "execution_count": 35,
   "metadata": {},
   "outputs": [
    {
     "name": "stdout",
     "output_type": "stream",
     "text": [
      "For population = 40,000, predicted profit = $10351.58\n",
      "For population = 65,000, predicted profit = $39510.64\n"
     ]
    }
   ],
   "source": [
    "print('For population = 40,000, predicted profit = $%.2f' % (predict(4, theta0, theta1)*10000))\n",
    "print('For population = 65,000, predicted profit = $%.2f' % (predict(6.5, theta0, theta1)*10000))"
   ]
  },
  {
   "cell_type": "markdown",
   "metadata": {},
   "source": [
    "## 2. Multivariate Linear Regression\n",
    "\n",
    "Now, you will implement multivariate linear regression (from scratch) to predict the quality of white wine given its chemical measures. You are given with the dataset `Data/ex2data2.txt`. The dataset contains 11 input varibles and one output variable. Here is the description:\n",
    "\n",
    "- $x_1$ = Fixed acidity \n",
    "- $x_2$ = Volatile acidity \n",
    "- $x_3$ = Citric acid \n",
    "- $x_4$ = Residual sugar \n",
    "- $x_5$ = Chlorides \n",
    "- $x_6$ = Free sulfur dioxide \n",
    "- $x_7$ = Total sulfur dioxide \n",
    "- $x_8$ = Density \n",
    "- $x_9$ = pH \n",
    "- $x_{10}$ = Sulphates \n",
    "- $x_{11}$ = Alcohol \n",
    "- $y$ = Quality (score between 0 and 10)\n",
    "\n",
    "You have to follow exactly the same steps as above i.e. implement hypothesis, cost function and gradient descent for multivariate linear regression. Finally, predict the quality of following two wines using your learned parameters $\\theta$\n",
    "\n",
    "- $x_1$ = 5.5, $x_2$ = 0.29, $x_3$ = 0.3, $x_4$ = 1.1, $x_5$ = 0.022, $x_6$ = 20, $x_7$ = 110, $x_8$ = 0.98869, $x_9$ = 3.34, $x_{10}$ = 0.38, $x_{11}$ = 12.8\n",
    "- $x_1$ = 6, $x_2$ = 0.21, $x_3$ = 0.38, $x_4$ = 0.8, $x_5$ = 0.02, $x_6$ = 22, $x_7$ = 98, $x_8$ = 0.98941, $x_9$ = 3.26, $x_{10}$ = 0.32, $x_{11}$ = 11.8"
   ]
  },
  {
   "cell_type": "code",
   "execution_count": 4,
   "metadata": {},
   "outputs": [],
   "source": [
    "data_mv = np.loadtxt(os.path.join('Data', 'ex2data2.txt'), delimiter=',')\n",
    "X_mv, Y_mv = data_mv[:, 0:11], data_mv[:, 11]"
   ]
  },
  {
   "cell_type": "code",
   "execution_count": 37,
   "metadata": {},
   "outputs": [],
   "source": [
    "### GRADED FUNCTION ###\n",
    "def predict_multivariate(x, theta):\n",
    "    '''\n",
    "    Calculates the hypothesis for any input sample `x` given the parameters `theta`.\n",
    "    \n",
    "    Arguments\n",
    "    ---------\n",
    "    x : array\n",
    "        The input sample of shape (n, ), where n is the number of features. \n",
    "        The first entry of this vector should always be 1 i.e. x[0]=1.\n",
    "    \n",
    "    theta : array\n",
    "        The weights vector of shape (n+1, ), where n is the number of features.\n",
    "    \n",
    "    Returns\n",
    "    -------\n",
    "    h_x : float\n",
    "        The hypothesis for input sample.\n",
    "    \n",
    "    '''\n",
    "    \n",
    "    h_x = 0.0\n",
    "    x = np.append(1,x)\n",
    "    h_x = sum(theta * x)\n",
    "    ### END CODE HERE ###\n",
    "    \n",
    "    return h_x"
   ]
  },
  {
   "cell_type": "code",
   "execution_count": 38,
   "metadata": {},
   "outputs": [],
   "source": [
    "\n",
    "def computeCost_multivariate(X, Y, theta):\n",
    "    '''\n",
    "    Computes cost for linear regression. Computes the cost of using `theta` as the\n",
    "    parameter for linear regression to fit the data points in `X` and `Y`.\n",
    "    \n",
    "    Arguments\n",
    "    ---------\n",
    "    X : 2d-array\n",
    "        The input dataset of shape (m, n), where m is the number of training examples and n is the number of features.\n",
    "    \n",
    "    Y : array\n",
    "        The values of the function at each data point. This is a vector of\n",
    "        shape (m, ), where m is the number of training examples.\n",
    "    \n",
    "    theta : array\n",
    "        The weights vector of shape (n+1,).\n",
    "    \n",
    "    Returns\n",
    "    -------\n",
    "    J : array\n",
    "        The value of the regression cost function for each training example.\n",
    "\n",
    "    '''\n",
    "    # initialize some useful values\n",
    "    m = Y.size  # number of training examples\n",
    "    n = X.shape[1] #number of features\n",
    "    # You need to return the following variable(s) correctly\n",
    "    J = 0\n",
    "        \n",
    "    ### START CODE HERE ### (≈ 3-4 lines of code)\n",
    "    hx = [predict_multivariate(X[i,:], theta) for i in range(0, m)]\n",
    "    J = (1/(2*m)) * sum(np.square(np.array(hx) - np.array(Y)))\n",
    "    ### END CODE HERE ###\n",
    "    \n",
    "    return J"
   ]
  },
  {
   "cell_type": "code",
   "execution_count": 39,
   "metadata": {},
   "outputs": [],
   "source": [
    "### GRADED FUNCTION ###\n",
    "def gradientDescent_multivariate(X, Y, alpha, n_epoch):\n",
    "    \"\"\"\n",
    "    Performs gradient descent to learn `theta`. Updates `theta` by taking `n_epoch`\n",
    "    gradient steps with learning rate `alpha`.\n",
    "    \n",
    "    Arguments\n",
    "    ---------\n",
    "    X : 2d-array\n",
    "        The input dataset of shape (m, n), where m is the number of training examples and n is the number of features.\n",
    "    \n",
    "    Y : array\n",
    "        The values of the function at each data point. This is a vector of\n",
    "        shape (m, ), where m is the number of training examples.\n",
    "    \n",
    "    alpha : float\n",
    "        The learning rate.\n",
    "    \n",
    "    n_epoch : int\n",
    "        The number of iterations for gradient descent. \n",
    "    \n",
    "    Returns\n",
    "    -------\n",
    "    theta : float\n",
    "        The parameters for the regression function.\n",
    "        \n",
    "    J : list\n",
    "        A python list for the values of the cost function after each iteration.\n",
    "    \n",
    "    \"\"\"\n",
    "    # initialize some useful values\n",
    "    m = Y.size  # number of training examples\n",
    "    n = X.shape[1]\n",
    "    J = list()  # list to store cost\n",
    "    \n",
    "    # You need to return the following variables correctly\n",
    "    theta = np.zeros(n+1)\n",
    "    X_1 = np.concatenate((np.ones((m,1)),X), axis=1)\n",
    "    for epoch in range(n_epoch):\n",
    "        ### START CODE HERE ### (≈ 5-10 lines of code)\n",
    "        \n",
    "        hx = [predict_multivariate(X[i,:], theta) for i in range(0, m)]\n",
    "        for j in range(0, n+1):\n",
    "            temp = (alpha/m) * sum((hx-Y) * X_1[:,j] )\n",
    "            theta[j] = theta[j] - temp\n",
    "        ### END CODE HERE ###\n",
    "\n",
    "        J.append(computeCost_multivariate(X, Y, theta))\n",
    "    return theta, J"
   ]
  },
  {
   "cell_type": "code",
   "execution_count": 40,
   "metadata": {},
   "outputs": [
    {
     "name": "stdout",
     "output_type": "stream",
     "text": [
      "Predicted theta = [-2.50766887e+90 -1.72430412e+91 -7.03514784e+89 -8.49428163e+89\n",
      " -1.76184907e+91 -1.18072541e+89 -9.73122293e+91 -3.79389327e+92\n",
      " -2.49390210e+90 -7.99515067e+90 -1.23995917e+90 -2.59461434e+91], cost = 1.7425690986336871e+189\n"
     ]
    }
   ],
   "source": [
    "n_epoch = 40\n",
    "alpha = 0.01\n",
    "\n",
    "theta, J = gradientDescent_multivariate(X_mv ,Y_mv, alpha, n_epoch)\n",
    "print('Predicted theta = {}, cost = {}' .format (theta, J[-1]))"
   ]
  },
  {
   "cell_type": "markdown",
   "metadata": {},
   "source": [
    "The cost does not converge, hence we perform feature normalization"
   ]
  },
  {
   "cell_type": "code",
   "execution_count": 41,
   "metadata": {},
   "outputs": [],
   "source": [
    "def feature_normalization(X):\n",
    "    \"\"\"\n",
    "    Performs feature normalization.\n",
    "    \n",
    "    Arguments\n",
    "    ---------\n",
    "    X : 2d-array\n",
    "        The input dataset of shape (m, n), where m is the number of training examples and n is the number of features.\n",
    "        \n",
    "    Returns\n",
    "    -------\n",
    "    X_n : 2d-array\n",
    "        The normalised feature set.\n",
    "    \"\"\"\n",
    "    xi_mean = list()\n",
    "    xi_std = list()\n",
    "    n = X.shape[1]\n",
    "    X_n = np.zeros((X.shape[0], X.shape[1]))\n",
    "    for i in range(0, n):\n",
    "        mean_xi = np.mean(X[:,i])\n",
    "        xi_mean.append(mean_xi)\n",
    "        s_xi = np.std(X[:,i])\n",
    "        xi_std.append(s_xi)\n",
    "        X_n[:, i] = (X[:, i]-mean_xi)/s_xi\n",
    "    return X_n, xi_mean, xi_std"
   ]
  },
  {
   "cell_type": "markdown",
   "metadata": {},
   "source": [
    "# Training "
   ]
  },
  {
   "cell_type": "code",
   "execution_count": 43,
   "metadata": {},
   "outputs": [
    {
     "name": "stdout",
     "output_type": "stream",
     "text": [
      "Predicted theta = [ 5.12230508 -0.03565376 -0.14922028  0.01610976  0.09368519 -0.06842962\n",
      "  0.07436421 -0.03908803 -0.10348773  0.03170438  0.04567511  0.27254307], cost = 0.5758689439786776\n"
     ]
    }
   ],
   "source": [
    "n_epoch1 = 40\n",
    "alpha1 = 0.05\n",
    "X_mv_n, _, _ = feature_normalization(X_mv)\n",
    "theta1, J1 = gradientDescent_multivariate(X_mv_n ,Y_mv, alpha1, n_epoch1)\n",
    "print('Predicted theta = {}, cost = {}' .format (theta1, J1[-1]))"
   ]
  },
  {
   "cell_type": "code",
   "execution_count": 44,
   "metadata": {},
   "outputs": [
    {
     "name": "stdout",
     "output_type": "stream",
     "text": [
      "Predicted theta = [ 5.42539919 -0.03427842 -0.15990715  0.01510543  0.11541369 -0.06241384\n",
      "  0.07978843 -0.03901658 -0.10685971  0.03239234  0.04852885  0.296911  ], cost = 0.39033835893711455\n"
     ]
    }
   ],
   "source": [
    "n_epoch2 = 50\n",
    "alpha2 = 0.05\n",
    "X_mv_n, _, _ = feature_normalization(X_mv)\n",
    "theta2, J2 = gradientDescent_multivariate(X_mv_n ,Y_mv, alpha2, n_epoch2)\n",
    "print('Predicted theta = {}, cost = {}' .format (theta2, J2[-1]))"
   ]
  },
  {
   "cell_type": "code",
   "execution_count": 48,
   "metadata": {},
   "outputs": [
    {
     "name": "stdout",
     "output_type": "stream",
     "text": [
      "Predicted theta = [ 5.60687283 -0.03252401 -0.16740953  0.01343067  0.13297032 -0.05593279\n",
      "  0.08261321 -0.03888101 -0.10993518  0.03331517  0.05041544  0.31562976], cost = 0.32317284377477207\n"
     ]
    }
   ],
   "source": [
    "n_epoch3 = 60\n",
    "alpha3 = 0.05\n",
    "X_mv_n, _, _ = feature_normalization(X_mv)\n",
    "theta3, J3 = gradientDescent_multivariate(X_mv_n ,Y_mv, alpha3, n_epoch3)\n",
    "print('Predicted theta = {}, cost = {}' .format (theta3, J3[-1]))"
   ]
  },
  {
   "cell_type": "code",
   "execution_count": 45,
   "metadata": {},
   "outputs": [
    {
     "name": "stdout",
     "output_type": "stream",
     "text": [
      "Predicted theta = [ 5.71552781 -0.03060884 -0.17289236  0.01155939  0.14724841 -0.0497415\n",
      "  0.08391849 -0.03857852 -0.11291448  0.03443421  0.05171961  0.33009275], cost = 0.2986558979536081\n"
     ]
    }
   ],
   "source": [
    "n_epoch4 = 70\n",
    "alpha4 = 0.05\n",
    "X_mv_n, _, _ = feature_normalization(X_mv)\n",
    "theta4, J4 = gradientDescent_multivariate(X_mv_n ,Y_mv, alpha4, n_epoch4)\n",
    "print('Predicted theta = {}, cost = {}' .format (theta4, J4[-1]))"
   ]
  },
  {
   "cell_type": "code",
   "execution_count": 46,
   "metadata": {},
   "outputs": [
    {
     "name": "stdout",
     "output_type": "stream",
     "text": [
      "Predicted theta = [ 5.8428564  -0.02492611 -0.18279482  0.00658481  0.17681498 -0.03518349\n",
      "  0.08385647 -0.03672664 -0.12188929  0.03824328  0.05386344  0.35660458], cost = 0.2847233254281789\n"
     ]
    }
   ],
   "source": [
    "n_epoch5 = 100\n",
    "alpha5 = 0.05\n",
    "X_mv_n, feat_mean, feat_std = feature_normalization(X_mv)\n",
    "theta5, J5 = gradientDescent_multivariate(X_mv_n ,Y_mv, alpha5, n_epoch5)\n",
    "print('Predicted theta = {}, cost = {}' .format (theta5, J5[-1]))"
   ]
  },
  {
   "cell_type": "code",
   "execution_count": 49,
   "metadata": {},
   "outputs": [
    {
     "data": {
      "image/png": "[encoded data removed]",
      "text/plain": [
       "<Figure size 432x288 with 1 Axes>"
      ]
     },
     "metadata": {
      "needs_background": "light"
     },
     "output_type": "display_data"
    }
   ],
   "source": [
    "cost = [J1[-1], J2[-1], J3[-1], J4[-1], J5[-1]]\n",
    "num_iter = [n_epoch1, n_epoch2, n_epoch3, n_epoch4, n_epoch5]\n",
    "# ploting number of iterations vs cost\n",
    "pyplot.figure()\n",
    "pyplot.plot(num_iter, cost)\n",
    "pyplot.xlabel('num of iterations')\n",
    "pyplot.ylabel('cost')\n",
    "pyplot.title('number of iterations vs cost')\n",
    "pyplot.show()"
   ]
  },
  {
   "cell_type": "markdown",
   "metadata": {},
   "source": [
    "# Testing\n"
   ]
  },
  {
   "cell_type": "code",
   "execution_count": 50,
   "metadata": {},
   "outputs": [],
   "source": [
    "X_test = np.array([[5.5, 0.29, 0.3,  1.1,  0.022,  20,  110,  0.98869,  3.34,  0.38,  12.8],[6, 0.21, 0.38, 0.8, 0.02, 22, 98, 0.98941, 3.26, 0.32, 11.8]])"
   ]
  },
  {
   "cell_type": "code",
   "execution_count": 51,
   "metadata": {},
   "outputs": [],
   "source": [
    "X_test_n = np.zeros((X_test.shape[0], X_test.shape[1]))\n",
    "for i in range(0, len(feat_mean)):\n",
    "    X_test_n[:,i] = (X_test[:,i]-feat_mean[i])/feat_std[i]"
   ]
  },
  {
   "cell_type": "code",
   "execution_count": 52,
   "metadata": {},
   "outputs": [
    {
     "name": "stdout",
     "output_type": "stream",
     "text": [
      "predicted value for first sample: 6.529548341801124\n",
      "predicted value for second sample: 6.3093743725365545\n"
     ]
    }
   ],
   "source": [
    "Y1 = predict_multivariate(X_test_n[0,:], theta5)\n",
    "Y2 = predict_multivariate(X_test_n[1,:], theta5)\n",
    "print(\"predicted value for first sample: {}\".format(Y1))\n",
    "print(\"predicted value for second sample: {}\".format(Y2))"
   ]
  }
 ],
 "metadata": {
  "kernelspec": {
   "display_name": "Python 3",
   "language": "python",
   "name": "python3"
  },
  "language_info": {
   "codemirror_mode": {
    "name": "ipython",
    "version": 3
   },
   "file_extension": ".py",
   "mimetype": "text/x-python",
   "name": "python",
   "nbconvert_exporter": "python",
   "pygments_lexer": "ipython3",
   "version": "3.7.6"
  }
 },
 "nbformat": 4,
 "nbformat_minor": 2
}
